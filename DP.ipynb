{
 "cells": [
  {
   "cell_type": "markdown",
   "metadata": {},
   "source": [
    "# Optimal strategy for a game on a list of numbers"
   ]
  },
  {
   "cell_type": "markdown",
   "metadata": {},
   "source": [
    "Consider a list of $n$ coins of values $v_1,\\ldots,v_n$, where $n$ is even.\n",
    "\n",
    "Two equally smart players P1 and P2 play against each other in alternating turns, with P1 starting first.\n",
    "\n",
    "In each turn, a player removes either the first or last coin from the list and receives the value of that coin as reward.\n",
    "\n",
    "Determine the maximum possible amount of money that P1 can win."
   ]
  },
  {
   "cell_type": "markdown",
   "metadata": {},
   "source": [
    "### Marking scheme\n",
    "\n",
    "|Item|Mark|\n",
    "|:----|---:|\n",
    "|Part (2) of \"Approach\" (see below)|/4|\n",
    "|Recursive formulation (see below)|/4|\n",
    "|Implementation - Memoization|/6|\n",
    "|Implementation - Bottom-up|/6|\n",
    "|||\n",
    "|**Total**:     |/20|\n"
   ]
  },
  {
   "cell_type": "markdown",
   "metadata": {},
   "source": [
    "## Example\n",
    "\n",
    "- `5, 3, 7, 10`: P1 wins a maximum value of 15 = 10 + 5.\n",
    "- `8, 15, 3, 7`: P1 wins a maximum value of 22 = 7 + 15.\n",
    "\n",
    "In the second example, here is how the game goes:\n",
    "\n",
    "| State         | P1   | P2  |\n",
    "|---------------|------|-----|\n",
    "| `8, 15, 3, 7` |      |     |\n",
    "| `8, 15, 3`    | 7    |     |\n",
    "| `15, 3`       |      | 8   |\n",
    "| `3`           | 7+15 |     |\n",
    "|               |      | 8+3 |\n",
    "\n",
    "Total value collected by P1 is 7+15 = 22."
   ]
  },
  {
   "cell_type": "markdown",
   "metadata": {},
   "source": [
    "### Note\n",
    "\n",
    "Note that the greedy approach, where the players pick the highest value, does not guarantee maximum reward.\n",
    "For example, in the second example, this is how the game goes:\n",
    "\n",
    "| State         | P1  | P2   |\n",
    "|---------------|-----|------|\n",
    "| `8, 15, 3, 7` |     |      |\n",
    "| `15, 3, 7`    | 8   |      |\n",
    "| `3, 7`        |     | 15   |\n",
    "| `3`           | 8+7 |      |\n",
    "|               |     | 15+3 |\n",
    "\n",
    "Total value collected by P1 this time is only 8+7=15."
   ]
  },
  {
   "attachments": {},
   "cell_type": "markdown",
   "metadata": {},
   "source": [
    "## Approach\n",
    "\n",
    "Each of P1 and P2 will try to reduce their opponent's chances of winning.\n",
    "\n",
    "Let $F(i, j)$ represent the maximum value that a player can collect from the list $v_i,\\ldots,v_j$.\n",
    "\n",
    "Starting from the list $v_i,\\ldots,v_j$, there are two possible cases:\n",
    "\n",
    "#### 1) P1 removes $v_i$ leaving $v_{i+1},\\ldots,v_j$ for P2 to choose from.\n",
    "\n",
    "$$\n",
    "v_i, \\underbrace{v_{i+1}, \\ldots, v_j}_\\text{P2}.\n",
    "$$\n",
    "\n",
    "P2 either chooses $v_{i+1}$, leaving $v_{i+2},\\ldots,v_j$, or $v_j$ leaving $v_{i+1},\\ldots,v_{j-1}$ for P1 to choose from.\n",
    "\n",
    "P2 intends to choose the coin which leaves P1 with minimal value.\n",
    "So, P1 can later collect the value $v_i + \\min(F(i+2, j), F(i+1, j-1))$. \n",
    "\n",
    "#### 2) P1 chooses $v_j$ leaving $v_{....},\\ldots,v_{....}$ for P2 to choose from.\n",
    "\n",
    "$$\n",
    "\\underbrace{Vj-1}, \\ldots, v_{....}\\text{P2}, v_j.\n",
    "$$\n",
    "\n",
    "P2 either chooses $v_{j-1}$, leaving $v_{i},\\ldots,v_{j-2}$, or $v_{i}$ leaving $v_{i+1},\\ldots,v_{j-1}$ for P1 to choose from.\n",
    "P2 intends to choose the coin which leaves P1 with minimal value.\n",
    "So, P1 can later collect the value $.....................$."
   ]
  },
  {
   "cell_type": "markdown",
   "metadata": {},
   "source": [
    "## Recursive formulation\n",
    "\n",
    "Based on the above two choices, we take a maximum of two choices. \n",
    "\n",
    "$$\n",
    "F(i, j) = \\max\\Big\\{\n",
    "        ................................. , \n",
    "        .................................\n",
    "        \\Big\\}\n",
    "$$\n",
    "\n",
    "P1 wants to maximise the number of coins. \n",
    "\n",
    "Base Cases:\n",
    "\n",
    "$$\n",
    "F(i, j) = .................................\n",
    "$$\n",
    "   "
   ]
  },
  {
   "cell_type": "markdown",
   "metadata": {},
   "source": [
    "### 1) Memoization (Top-down approach)"
   ]
  },
  {
   "cell_type": "code",
   "execution_count": 84,
   "metadata": {
    "ExecuteTime": {
     "end_time": "2022-10-25T11:38:11.266563Z",
     "start_time": "2022-10-25T11:38:11.256547Z"
    }
   },
   "outputs": [
    {
     "name": "stdout",
     "output_type": "stream",
     "text": [
      "22\n"
     ]
    }
   ],
   "source": [
    "# Implementation\n",
    "def game (arr, n):\n",
    "   X ={ }\n",
    "\n",
    "   def solve (x , y):\n",
    "       if x>y or x>=n :\n",
    "          return 0\n",
    "       elif y < 0:\n",
    "         return 0\n",
    "\n",
    "       l =(x,y)\n",
    "       if l in X:\n",
    "         return X[l]\n",
    "     \n",
    "       p1 = arr[x] + min (solve(x+2, y),solve(x+1,y-1)) \n",
    "       p2 = arr[y] + min (solve(x+1,y-1),solve(x,y-2))\n",
    "     \n",
    "       X[l]= max(p1,p2)\n",
    "       return X[l]  \n",
    "   return solve(0,n-1)\n",
    "arr= [8, 15, 3, 7]\n",
    "n = len(arr)\n",
    "print(game(arr, n))"
   ]
  },
  {
   "cell_type": "code",
   "execution_count": 85,
   "metadata": {
    "ExecuteTime": {
     "end_time": "2022-10-25T11:38:11.281559Z",
     "start_time": "2022-10-25T11:38:11.271567Z"
    }
   },
   "outputs": [
    {
     "name": "stdout",
     "output_type": "stream",
     "text": [
      "43\n",
      "6\n",
      "174\n"
     ]
    }
   ],
   "source": [
    "# Test examples\n",
    "arr= [15,32,6,11]\n",
    "n = len(arr)\n",
    "print(game(arr, n))\n",
    "\n",
    "arr= [1,2,3,4]\n",
    "n = len(arr)\n",
    "print(game(arr, n))\n",
    "\n",
    "arr= [98,87,76,65]\n",
    "n = len(arr)\n",
    "print(game(arr, n))"
   ]
  },
  {
   "cell_type": "markdown",
   "metadata": {},
   "source": [
    "### 2) Bottom-up approach"
   ]
  },
  {
   "cell_type": "code",
   "execution_count": 86,
   "metadata": {
    "ExecuteTime": {
     "end_time": "2022-10-25T11:38:11.295714Z",
     "start_time": "2022-10-25T11:38:11.286560Z"
    }
   },
   "outputs": [],
   "source": [
    "def game(arr):\n",
    "    n = len(arr)\n",
    "    table = [[0 for k in range(n)] for l in range(n)]\n",
    "    debug = False\n",
    "    \n",
    "    for X in range(0,n,1):\n",
    "        k = 0\n",
    "        for l in range(X,n,1):\n",
    "            \n",
    "        \n",
    "            if(k+2 < l):\n",
    "                val1 = table[k+2][l]\n",
    "            else:\n",
    "                val1 = 0\n",
    "                \n",
    "            if(k+1 < l-1):\n",
    "                val2 = table[k+1][l-1]\n",
    "            else:\n",
    "                val2 = 0\n",
    "                \n",
    "            if(k < l-2):\n",
    "                val3 = table[k][l-2]\n",
    "            else:\n",
    "                val3 = 0\n",
    "            \n",
    "            \n",
    "            table[k][l] = max(arr[k] + min(val1,val2),arr[k] + min(val2,val3))\n",
    "            k+=1\n",
    "            \n",
    "            if(debug):\n",
    "                for x in range(n):\n",
    "                    z = \"\"\n",
    "                    for y in range(n):\n",
    "                        z += str(table[x][y]) + \",\"\n",
    "                    print(z)\n",
    "                    print(\" \")\n",
    "                print(\" \")\n",
    "         \n",
    "    return table[0][-1]\n"
   ]
  },
  {
   "cell_type": "code",
   "execution_count": 87,
   "metadata": {},
   "outputs": [
    {
     "name": "stdout",
     "output_type": "stream",
     "text": [
      "16\n",
      "36\n",
      "9\n",
      "333\n"
     ]
    }
   ],
   "source": [
    "print(game([8,15,3,7]))\n",
    "\n",
    "print(game([16,20,27,31]))\n",
    "\n",
    "print(game([4,5,6,7]))\n",
    "\n",
    "print(game([111,222,333,444]))"
   ]
  },
  {
   "attachments": {},
   "cell_type": "markdown",
   "metadata": {},
   "source": [
    "# Conclusion\n",
    "\n",
    "Top-down and bottom-up dynamic programming. The task and programmer determine which to use. Top-down solves subproblems recursively. This straightforward method often cleans code. Memoizing sub-problem results prevents state recalculation. Stack overflow and poor performance may happen if done incorrectly. However, the bottom-up method helps build solutions repeatedly. This may be more efficient because stack overflow and caching aren't issues. However, the code can be more verbose and less understandable than with the top-down technique, and we must properly design data structures for sub-problem answers. As programming tools, both methodologies must be understood. We'll find the best dynamic programming method as we learn."
   ]
  },
  {
   "attachments": {},
   "cell_type": "markdown",
   "metadata": {},
   "source": [
    "# List of references\n",
    "https://www.geeksforgeeks.org/optimal-strategy-for-a-game-set  (Greektogreek)"
   ]
  },
  {
   "attachments": {},
   "cell_type": "markdown",
   "metadata": {},
   "source": [
    "# Recursive formulation\n",
    "\n",
    "Based on the above two choices, we take a maximum of two choices.\n",
    "\n",
    "\n",
    "\n",
    "F(i, j) = max\\{vi + min(F(i+2, j), F(i+1, j-1))\n",
    "         , \n",
    "        vj + min(F(i+1, j-1), F(i, j-2))\n",
    "        \\}\n",
    "\n",
    "P1 wants to maximise the number of coins.\n",
    "\n",
    "Base Cases:\n",
    "\n",
    "F(i, j) = F(i,j) = max(vi, vj) ,if j==i+1\n",
    "\n",
    "The recursive top down solution in is shown below"
   ]
  }
 ],
 "metadata": {
  "kernelspec": {
   "display_name": "Python 3 (ipykernel)",
   "language": "python",
   "name": "python3"
  },
  "language_info": {
   "codemirror_mode": {
    "name": "ipython",
    "version": 3
   },
   "file_extension": ".py",
   "mimetype": "text/x-python",
   "name": "python",
   "nbconvert_exporter": "python",
   "pygments_lexer": "ipython3",
   "version": "3.11.2"
  },
  "toc": {
   "base_numbering": 1,
   "nav_menu": {},
   "number_sections": false,
   "sideBar": true,
   "skip_h1_title": false,
   "title_cell": "Table of Contents",
   "title_sidebar": "Contents",
   "toc_cell": false,
   "toc_position": {},
   "toc_section_display": true,
   "toc_window_display": false
  },
  "vscode": {
   "interpreter": {
    "hash": "6d1e45cadc3597bb8b6600530fbdf8c3eefe919a24ef54d9d32b318795b772e0"
   }
  }
 },
 "nbformat": 4,
 "nbformat_minor": 2
}
