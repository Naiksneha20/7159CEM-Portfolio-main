{
 "cells": [
  {
   "cell_type": "markdown",
   "id": "5937b132",
   "metadata": {},
   "source": [
    "# Tools making optimisation problem"
   ]
  },
  {
   "cell_type": "markdown",
   "id": "cbca808d",
   "metadata": {},
   "source": [
    "AAA is a company that produces tools T1, T2 and T3. These are are made from steel, and the process involves molding the tools and then assembling them.\n",
    "\n",
    "The following table summarises the requirements and constraints:\n",
    "\n",
    "|                          | T1     | T2     | T3     | Availability |\n",
    "|--------------------------|--------|--------|--------|--------------|\n",
    "| Steel (kg)               | 1      | 0.7    | 0.6    | 10,000       |\n",
    "| Molding machine (hr)     | 1      | 1      | 1      | 20,000       |\n",
    "| Assembly machine (hr)    | 0.3    | 0.5    | 0.4    | 9,000        |\n",
    "| Demand limit (tools/day) | 15,000 | 16,000 | 12,000 |              |\n",
    "| Profit (£/1000 units)    | 130    | 100    | 120    |              |\n",
    "\n",
    "AAA would like to plan for the daily production of tools to maximise its profit.\n",
    "In particular, we have the following questions:\n",
    "\n",
    "- How many of each type of the tools should AAA plan to produce per day?\n",
    "- What is the expected total profit from this plan?\n",
    "- Which resources are expected to be most critical in this plan?"
   ]
  },
  {
   "cell_type": "markdown",
   "id": "5f8a3431",
   "metadata": {},
   "source": [
    "### Marking scheme\n",
    "\n",
    "|Item|Mark|\n",
    "|:----|---:|\n",
    "|**Mathematical formulation**:||\n",
    "|Decision variables|/1|\n",
    "|Profit formula|/1|\n",
    "|Constraints|/2|\n",
    "|Demand limits|/2|\n",
    "|Non-negativity constraints|/1|\n",
    "|**Solution**:||\n",
    "|PuLP solution|/4|\n",
    "|**Answers to AAA's questions**:||\n",
    "|How many of each type of the tools should AAA plan to produce per day?|/3|\n",
    "|What is the expected total profit from this plan?|/3|\n",
    "|Which resources are expected to be most critical in this plan?|/3|\n",
    "|||\n",
    "|**Total**:     |/20|\n"
   ]
  },
  {
   "cell_type": "markdown",
   "id": "0366a3fc",
   "metadata": {},
   "source": [
    "## Mathematical formulation"
   ]
  },
  {
   "attachments": {},
   "cell_type": "markdown",
   "id": "06aeba09",
   "metadata": {},
   "source": [
    "Decision variables:\n",
    "\n",
    "|Variable name| Description |\n",
    "|A1 |This will represent T1 |\n",
    "\n",
    "|A2|This will represent T2|\n",
    "\n",
    "|A3|This will represent T3|\n",
    "\n",
    "|model_X|This will represent profit|"
   ]
  },
  {
   "cell_type": "markdown",
   "id": "56ab5cbe",
   "metadata": {},
   "source": [
    "\n",
    "Profit formula (to be optimised):\n",
    "$$\n",
    "....\n",
    "$$"
   ]
  },
  {
   "cell_type": "code",
   "execution_count": null,
   "id": "9b12aac9",
   "metadata": {},
   "outputs": [],
   "source": [
    "model_X += 130*A1 + 100*A2 +120*A3 "
   ]
  },
  {
   "attachments": {},
   "cell_type": "markdown",
   "id": "9b2ca564",
   "metadata": {},
   "source": [
    "Constraints:\n",
    "\n",
    "$$\n",
    "\\begin{alignat*}{4}\n",
    "    &1*A1 + 0.7*A2 + 0.6*A3 <=10,000& \\leq \\\\\n",
    "\n",
    "&1*A1 + 1*A2 + 1*A3 <=20,000& \\leq \\\\\n",
    "\n",
    "& 0.3*A1 + 0.5*A2 + 0.4*A3 <=9,000& \\leq \\\\ \n",
    "    \n",
    "\\end{alignat*}\n",
    "$$\n",
    "\n",
    "Demand limits:\n",
    "\n",
    "$$\n",
    "\\begin{alignat*}{2}\n",
    "    &A1<= 15000 &\\leq .. \\\\\n",
    "    &A2<= 16000 &\\leq .. \\\\\n",
    "    &A3<= 12000&\\leq .. \\\\\n",
    "\\end{alignat*}\n",
    "$$\n",
    "\n",
    "Non-negativity constraints:\n",
    "\n",
    "$$\n",
    " A1,A2,A3,model_X >=0\n",
    "$$"
   ]
  },
  {
   "cell_type": "markdown",
   "id": "94561b9d",
   "metadata": {},
   "source": [
    "## Solution"
   ]
  },
  {
   "cell_type": "code",
   "execution_count": 21,
   "id": "1a5ec9b7",
   "metadata": {
    "ExecuteTime": {
     "end_time": "2022-10-25T11:37:42.147735Z",
     "start_time": "2022-10-25T11:37:42.007094Z"
    }
   },
   "outputs": [],
   "source": [
    "import pulp \n",
    "from pulp import LpMaximize,LpProblem , LpVariable, LpInteger,LpStatus"
   ]
  },
  {
   "cell_type": "code",
   "execution_count": 22,
   "id": "0a67ab32",
   "metadata": {},
   "outputs": [
    {
     "name": "stderr",
     "output_type": "stream",
     "text": [
      "C:\\Users\\sneha\\AppData\\Local\\Packages\\PythonSoftwareFoundation.Python.3.11_qbz5n2kfra8p0\\LocalCache\\local-packages\\Python311\\site-packages\\pulp\\pulp.py:1352: UserWarning: Spaces are not permitted in the name. Converted to '_'\n",
      "  warnings.warn(\"Spaces are not permitted in the name. Converted to '_'\")\n"
     ]
    }
   ],
   "source": [
    "#Creating model_X variable to contain the problem data \n",
    "model_X = pulp.LpProblem(\"Profit maximising\",pulp.LpMaximize)\n",
    "#defining the variables T1 T2 and T3 which are created with the lower limit or lower bound 0\n",
    "A1 = pulp.LpVariable(\"T1\",0 )\n",
    "A2 = pulp.LpVariable(\"T2\",0)\n",
    "A3 = pulp.LpVariable(\"T3\",0 )"
   ]
  },
  {
   "cell_type": "code",
   "execution_count": 23,
   "id": "3c1e9b09",
   "metadata": {},
   "outputs": [],
   "source": [
    "#Maximzie profite by creating the objective function\n",
    "model_X += 130*A1 + 100*A2 +120*A3 ,\"Profit\"\n"
   ]
  },
  {
   "cell_type": "code",
   "execution_count": 24,
   "id": "1c433125",
   "metadata": {},
   "outputs": [],
   "source": [
    "# creating the constrains \n",
    "model_X +=1*A1 + 0.7*A2 + 0.6*A3 <=10,000\n",
    "model_X +=1*A1 + 1*A2 + 1*A3 <=20,000\n",
    "model_X +=0.3*A1 + 0.5*A2 + 0.4*A3 <=9,000"
   ]
  },
  {
   "cell_type": "code",
   "execution_count": 25,
   "id": "899d19a8",
   "metadata": {},
   "outputs": [],
   "source": [
    "#seting a demand limit\n",
    "model_X +=A1<=15,000\n",
    "model_X +=A2<=16,000\n",
    "model_X +=A3<=12,000"
   ]
  },
  {
   "cell_type": "code",
   "execution_count": 26,
   "id": "bda95c39",
   "metadata": {},
   "outputs": [
    {
     "data": {
      "text/plain": [
       "(T1, T2, 1*T3 + 0 >= 0)"
      ]
     },
     "execution_count": 26,
     "metadata": {},
     "output_type": "execute_result"
    }
   ],
   "source": [
    "#non negative constrains:\n",
    "A1 ,A2 , A3 >=0"
   ]
  },
  {
   "cell_type": "code",
   "execution_count": 27,
   "id": "847d2ffd",
   "metadata": {},
   "outputs": [
    {
     "data": {
      "text/plain": [
       "'Optimal'"
      ]
     },
     "execution_count": 27,
     "metadata": {},
     "output_type": "execute_result"
    }
   ],
   "source": [
    "# Solve our problem\n",
    "model_X.solve()\n",
    "pulp.LpStatus[model_X.status]"
   ]
  },
  {
   "cell_type": "code",
   "execution_count": 28,
   "id": "64c4d356",
   "metadata": {},
   "outputs": [
    {
     "name": "stdout",
     "output_type": "stream",
     "text": [
      "Tool T1 = 0.0\n",
      "\n",
      "Tool T2 = 4.0\n",
      "\n",
      "Tool T3 = 12.0\n",
      "\n"
     ]
    }
   ],
   "source": [
    "\n",
    "#PRINTING OUR DECISION VARIABLE\n",
    "print (f\"Tool T1 = {format(A1.varValue)}\\n\")\n",
    "print (f\"Tool T2 = {format(A2.varValue)}\\n\")\n",
    "print (f\"Tool T3 = {format(A3.varValue)}\\n\")"
   ]
  },
  {
   "cell_type": "code",
   "execution_count": 29,
   "id": "2e42d75b",
   "metadata": {},
   "outputs": [
    {
     "name": "stdout",
     "output_type": "stream",
     "text": [
      "1840.0\n"
     ]
    }
   ],
   "source": [
    "# Print our objective function value\n",
    "print (pulp.value(model_X.objective))"
   ]
  },
  {
   "cell_type": "code",
   "execution_count": 30,
   "id": "528c4cbe",
   "metadata": {},
   "outputs": [
    {
     "name": "stdout",
     "output_type": "stream",
     "text": [
      "resource value\n",
      "steel 10.0\n",
      "molding machine 16.0\n",
      "assembly machine 6.800000000000001\n",
      "production time 22.8\n"
     ]
    }
   ],
   "source": [
    "#Daily resource score \n",
    "print(\"resource value\")\n",
    "print (\"steel\",A1.varValue*1+A2.varValue*0.7+A3.varValue*0.6)\n",
    "print('molding machine',A1.varValue*1+A2.varValue*1+A3.varValue*1)\n",
    "print(\"assembly machine\",A1.varValue*0.3+A2.varValue*0.5+A3.varValue*0.4 )\n",
    "print (\"production time\",A1.varValue*1+A2.varValue*1+A3.varValue*1+A1.varValue*0.3+A2.varValue*0.5+A3.varValue*0.4)"
   ]
  },
  {
   "attachments": {},
   "cell_type": "markdown",
   "id": "524021a2",
   "metadata": {},
   "source": [
    "# Conclusion\n",
    "\n",
    "How many of each type of the tools should AAA plan to produce per day?\n",
    "Tool T1 = 0.0 or 000\n",
    "Tool T2 = 4.0 or 4000\n",
    "Tool T3 = 12.0 or 12000\n",
    "\n",
    "What is the expected total profit from this plan?\n",
    "\n",
    "1840.0 \n",
    "\n",
    "Which resources are expected to be most critical in this plan?\n",
    "resource value\n",
    "steel 10.0 or 10000\n",
    "molding machine 16.0 or 16000\n",
    "assembly machine 6.800000000000001 or 68000\n",
    "production time 22.8 or 22800\n",
    "\n",
    "when we take a look at the constrains we can observe that the steel has reached the availability when it will decrease or increase it may effect the construction cost so we can consider it a most critical in the plan \n",
    "\n"
   ]
  },
  {
   "attachments": {},
   "cell_type": "markdown",
   "id": "57a444ba",
   "metadata": {},
   "source": [
    "# List of references\n",
    "\n",
    "Ben Keen(1st April 2016)Linear Programming with Python and PuLP https://benalexkeen.com/linear-programming-with-python-and-pulp-part-3/\n",
    "\n",
    "pulp documentation team Linear Programming: https://coin-or.github.io/pulp/"
   ]
  }
 ],
 "metadata": {
  "kernelspec": {
   "display_name": "Python 3 (ipykernel)",
   "language": "python",
   "name": "python3"
  },
  "language_info": {
   "codemirror_mode": {
    "name": "ipython",
    "version": 3
   },
   "file_extension": ".py",
   "mimetype": "text/x-python",
   "name": "python",
   "nbconvert_exporter": "python",
   "pygments_lexer": "ipython3",
   "version": "3.11.2"
  },
  "toc": {
   "base_numbering": 1,
   "nav_menu": {},
   "number_sections": false,
   "sideBar": true,
   "skip_h1_title": false,
   "title_cell": "Table of Contents",
   "title_sidebar": "Contents",
   "toc_cell": false,
   "toc_position": {},
   "toc_section_display": true,
   "toc_window_display": false
  },
  "vscode": {
   "interpreter": {
    "hash": "6d1e45cadc3597bb8b6600530fbdf8c3eefe919a24ef54d9d32b318795b772e0"
   }
  }
 },
 "nbformat": 4,
 "nbformat_minor": 5
}
